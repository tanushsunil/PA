{
 "cells": [
  {
   "cell_type": "markdown",
   "metadata": {},
   "source": [
    "***Importing the Libraries:***\n",
    ">*Here we'll be importing all the essential libraries needed for logistic regression.*"
   ]
  },
  {
   "cell_type": "code",
   "execution_count": 28,
   "metadata": {},
   "outputs": [],
   "source": [
    "#Importing the required libraries for Logistic Regression\n",
    "from sklearn.datasets import make_classification\n",
    "from sklearn.preprocessing import LabelEncoder\n",
    "from matplotlib import pyplot as plt\n",
    "from sklearn.linear_model import LogisticRegression\n",
    "from sklearn.model_selection import train_test_split\n",
    "from sklearn.metrics import confusion_matrix\n",
    "import pandas as pd\n",
    "import numpy as np\n",
    "from sklearn.compose import ColumnTransformer\n",
    "from sklearn.neighbors import KNeighborsClassifier\n",
    "from sklearn import metrics\n",
    "import pickle"
   ]
  },
  {
   "cell_type": "markdown",
   "metadata": {},
   "source": [
    "***Importing the processed dataset:***\n",
    "\n",
    ">*We're going to import the dataset that we've preprocessed in the previous step and now we're going to import it and assgin the features to X and Y.*\n",
    "\n"
   ]
  },
  {
   "cell_type": "code",
   "execution_count": 4,
   "metadata": {},
   "outputs": [
    {
     "name": "stdout",
     "output_type": "stream",
     "text": [
      "Features of X are:\n",
      "[[ 19   7   1   0]\n",
      " [ 24  59   0   1]\n",
      " [  4  43   0   1]\n",
      " ...\n",
      " [ 48  22   0   1]\n",
      " [  5 104   1   0]\n",
      " [  0  96   1   0]]\n",
      "Features of Y are:\n",
      "[0 0 0 ... 1 0 0]\n"
     ]
    }
   ],
   "source": [
    "#Importing the processed data set\n",
    "dataset = pd.read_csv(r'C:\\Users\\tanus\\OneDrive\\Desktop\\Internship Assests\\pat_data_clean.csv')\n",
    "dataset.head()\n",
    "dataset = dataset.drop(['Unnamed: 0'], axis='columns')\n",
    "\n",
    "x = dataset.iloc[:, [1,2,-1,-2]].values\n",
    "y = dataset.iloc[:, -3].values\n",
    "\n",
    "#using label encoder to change \"yes/no\" to \"1/0\"\n",
    "le = LabelEncoder()\n",
    "y = le.fit_transform(y)\n",
    "\n",
    "print(\"Features of X are:\")\n",
    "print(x)\n",
    "\n",
    "print(\"Features of Y are:\")\n",
    "print(y)\n",
    "\n",
    "\n"
   ]
  },
  {
   "cell_type": "code",
   "execution_count": 5,
   "metadata": {},
   "outputs": [],
   "source": [
    "#splitting Train, Test Data sets\n",
    "X_train, X_test, y_train, y_test = train_test_split(x, y, test_size=0.2)"
   ]
  },
  {
   "cell_type": "markdown",
   "metadata": {},
   "source": [
    "***KNN Model***"
   ]
  },
  {
   "cell_type": "code",
   "execution_count": 6,
   "metadata": {},
   "outputs": [
    {
     "name": "stdout",
     "output_type": "stream",
     "text": [
      "Accuracy of KNN Model: 0.8197708292872402\n"
     ]
    }
   ],
   "source": [
    "#K Nearest Neighbor\n",
    "knn = KNeighborsClassifier(n_neighbors=2)\n",
    "knn.fit(X_train, y_train)\n",
    "y_pred = knn.predict(X_test)\n",
    "\n",
    "score = metrics.accuracy_score(y_test, y_pred)\n",
    "print(\"Accuracy of KNN Model:\", score)"
   ]
  },
  {
   "cell_type": "markdown",
   "metadata": {},
   "source": [
    ">***Accuracy of Linear Regression Model ~ 82%***"
   ]
  },
  {
   "cell_type": "markdown",
   "metadata": {},
   "source": [
    "***Linear Regression Model***"
   ]
  },
  {
   "cell_type": "code",
   "execution_count": 7,
   "metadata": {},
   "outputs": [
    {
     "name": "stdout",
     "output_type": "stream",
     "text": [
      "Accuracy of Linear Regression Model:  0.8774241877757123\n"
     ]
    }
   ],
   "source": [
    "#Linear Regression\n",
    "lr = LogisticRegression()\n",
    "lr.fit(X_train, y_train)\n",
    "\n",
    "y_pred = lr.predict(X_test)\n",
    "\n",
    "score = metrics.accuracy_score(y_test, y_pred)\n",
    "print(\"Accuracy of Linear Regression Model: \", score)"
   ]
  },
  {
   "cell_type": "code",
   "execution_count": 26,
   "metadata": {},
   "outputs": [
    {
     "name": "stdout",
     "output_type": "stream",
     "text": [
      "[0]\n",
      "not adhered\n"
     ]
    }
   ],
   "source": [
    "import numpy as np\n",
    "input_data = (16,50,1,0)\n",
    "\n",
    "# changing the input_data to numpy array\n",
    "input_data_as_numpy_array = np.asarray(input_data)\n",
    "\n",
    "# reshape the array as we are predicting for one instance\n",
    "input_data_reshaped = input_data_as_numpy_array.reshape(1,-1)\n",
    "\n",
    "prediction = lr.predict(input_data_reshaped)\n",
    "print(prediction)\n",
    "\n",
    "if (prediction[0] == 0):\n",
    "  print('patient is not adhered')\n",
    "else:\n",
    "  print('patient Adhered')"
   ]
  },
  {
   "cell_type": "code",
   "execution_count": 29,
   "metadata": {},
   "outputs": [],
   "source": [
    "filename = 'linear_regression.sav'\n",
    "pickle.dump(lr, open(filename, 'wb'))\n",
    "\n",
    "filename = 'KNN.sav'\n",
    "pickle.dump(knn, open(filename, 'wb'))\n"
   ]
  },
  {
   "cell_type": "markdown",
   "metadata": {},
   "source": [
    ">***Accuracy of Linear Regression Model ~ 88%***"
   ]
  }
 ],
 "metadata": {
  "kernelspec": {
   "display_name": "Python 3.7.13 ('pa')",
   "language": "python",
   "name": "python3"
  },
  "language_info": {
   "codemirror_mode": {
    "name": "ipython",
    "version": 3
   },
   "file_extension": ".py",
   "mimetype": "text/x-python",
   "name": "python",
   "nbconvert_exporter": "python",
   "pygments_lexer": "ipython3",
   "version": "3.7.13"
  },
  "orig_nbformat": 4,
  "vscode": {
   "interpreter": {
    "hash": "3dea50eaf8e73156b1def6c26b7b4f83d78352c95c2b41bb3cff9167f1a8c1de"
   }
  }
 },
 "nbformat": 4,
 "nbformat_minor": 2
}
